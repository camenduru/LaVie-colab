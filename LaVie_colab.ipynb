{
  "cells": [
    {
      "cell_type": "markdown",
      "metadata": {
        "id": "view-in-github"
      },
      "source": [
        "[![Open In Colab](https://colab.research.google.com/assets/colab-badge.svg)](https://colab.research.google.com/github/camenduru/LaVie-colab/blob/main/LaVie_colab.ipynb)"
      ]
    },
    {
      "cell_type": "code",
      "execution_count": null,
      "metadata": {
        "id": "VjYy0F2gZIPR"
      },
      "outputs": [],
      "source": [
        "!git clone -b dev https://github.com/camenduru/LaVie-hf\n",
        "%cd /content/LaVie-hf\n",
        "\n",
        "!apt -y install -qq aria2\n",
        "!aria2c --console-log-level=error -c -x 16 -s 16 -k 1M https://huggingface.co/vdo/LaVie/resolve/main/pretrained_models/lavie_vsr.pt -d /content/LaVie-hf/pretrained_models -o lavie_vsr.pt\n",
        "!aria2c --console-log-level=error -c -x 16 -s 16 -k 1M https://huggingface.co/vdo/LaVie/resolve/main/pretrained_models/lavie_interpolation.pt -d /content/LaVie-hf/pretrained_models -o lavie_interpolation.pt\n",
        "!aria2c --console-log-level=error -c -x 16 -s 16 -k 1M https://huggingface.co/vdo/LaVie/resolve/main/pretrained_models/lavie_base.pt -d /content/LaVie-hf/pretrained_models -o lavie_base.pt\n",
        "!aria2c --console-log-level=error -c -x 16 -s 16 -k 1M https://huggingface.co/vdo/LaVie/resolve/main/pretrained_models/safety_checker/model.safetensors -d /content/LaVie-hf/pretrained_models/safety_checker -o model.safetensors\n",
        "!aria2c --console-log-level=error -c -x 16 -s 16 -k 1M https://huggingface.co/vdo/LaVie/resolve/main/pretrained_models/text_encoder/pytorch_model.bin -d /content/LaVie-hf/pretrained_models/text_encoder -o pytorch_model.bin\n",
        "!aria2c --console-log-level=error -c -x 16 -s 16 -k 1M https://huggingface.co/vdo/LaVie/resolve/main/pretrained_models/vae/diffusion_pytorch_model.bin -d /content/LaVie-hf/pretrained_models/vae -o diffusion_pytorch_model.bin\n",
        "\n",
        "!pip install -q gradio==3.50.2 einops diffusers accelerate rotary_embedding_torch omegaconf av\n",
        "!pip install -q https://download.pytorch.org/whl/cu118/xformers-0.0.22.post4%2Bcu118-cp310-cp310-manylinux2014_x86_64.whl\n",
        "!python base/app.py"
      ]
    }
  ],
  "metadata": {
    "accelerator": "GPU",
    "colab": {
      "gpuType": "T4",
      "provenance": []
    },
    "kernelspec": {
      "display_name": "Python 3",
      "name": "python3"
    },
    "language_info": {
      "name": "python"
    }
  },
  "nbformat": 4,
  "nbformat_minor": 0
}
